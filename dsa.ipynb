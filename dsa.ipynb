{
 "cells": [
  {
   "cell_type": "markdown",
   "id": "b197aec7",
   "metadata": {},
   "source": [
    "## Name : Hanna Getachew  \n",
    "## ID : DBU1601241\n",
    "## Department : Data science\n",
    "## Github Address: hannagetachew070421 \n",
    "## Data Structure and Algorithms Assignment\n",
    "\n"
   ]
  },
  {
   "cell_type": "markdown",
   "id": "87ff7809",
   "metadata": {},
   "source": [
    "## First we create a student dictionary "
   ]
  },
  {
   "cell_type": "markdown",
   "id": "008f0c39",
   "metadata": {},
   "source": [
    "# Dictionary is a versatile and widely used data structure that stores collections of data in key-valuepairs."
   ]
  },
  {
   "cell_type": "code",
   "execution_count": null,
   "id": "a9897b58",
   "metadata": {
    "vscode": {
     "languageId": "plaintext"
    }
   },
   "outputs": [],
   "source": [
    "students= [\n",
    "{\n",
    "    \"ID\": \"DBU1500001\", \"DBU1500015\", \"DBU1500005\", , \"DBU1500009\", \"DBU1500003\", \"DBU1500012\",  \"DBU1500010\", , \"DBU1500031\", \"DBU1500021\",\n",
    "    \"Name\": \"Abreham\",\"Kebede\",\"Hermela\",\"Mekdes\",\"Henok\",\"Elham\",\"Mubarek\",\"Siyum\",\"Zelalem\",\"Tesfaye\",\n",
    "    \"Dept\": \"DS\",\"CS\",\"DS\",\"SE\",\"IT\",\"CS\",\"IS\",\"DS\",\"SE\",\"CS\",\n",
    "    ]    \"cgpa\": 3.34,3.5,3.2,2.95,2.85,2.54,3.6,3.9,2.87,3.11\n",
    "}\n",
    "\n",
    "]"
   ]
  },
  {
   "cell_type": "code",
   "execution_count": null,
   "id": "7fd9aa95",
   "metadata": {
    "vscode": {
     "languageId": "plaintext"
    }
   },
   "outputs": [],
   "source": [
    "students"
   ]
  },
  {
   "cell_type": "markdown",
   "id": "83ef2ee4",
   "metadata": {
    "vscode": {
     "languageId": "plaintext"
    }
   },
   "source": [
    "## By using Bubble sort I'm sorting student ID in ordering. \n",
    "Bubble sort is a straightforward sorting algorithm primarily used for educational purposes and for sorting small datasets. it's advantage is simple to understand and implement.it's inefficient for large datasets is it's disadvantage.\n"
   ]
  },
  {
   "cell_type": "code",
   "execution_count": null,
   "id": "fe9af46e",
   "metadata": {
    "vscode": {
     "languageId": "plaintext"
    }
   },
   "outputs": [],
   "source": [
    "def bubble_sort_by_ID(students):\n",
    "    n=len(students)\n",
    "    for i in range(n):\n",
    "        for j in range(0,n-i-1):\n",
    "            if students[j][\"ID\"]> students[j+1][\"ID\"]:\n",
    "                 students[j],students[j+1]=students[j+1],students[j]\n",
    "    return students             "
   ]
  },
  {
   "cell_type": "code",
   "execution_count": null,
   "id": "3559ad76",
   "metadata": {
    "vscode": {
     "languageId": "plaintext"
    }
   },
   "outputs": [],
   "source": [
    "print(\"\\nSorted by ID (Bubble Sort):\")\n",
    "sorted_by_ID=selection_sort_by_ID(students.copy())\n",
    "for s in sorted_by_ID:\n",
    "    print(s)"
   ]
  },
  {
   "cell_type": "markdown",
   "id": "197c863f",
   "metadata": {
    "vscode": {
     "languageId": "plaintext"
    }
   },
   "source": [
    "# By using Insertion sort I'm sorting student by Name"
   ]
  },
  {
   "cell_type": "markdown",
   "id": "8a74bd3e",
   "metadata": {
    "vscode": {
     "languageId": "plaintext"
    }
   },
   "source": [
    "## Insertion sort is a simple sorting algorithm it's advantage is simple to implement, it preserves the relative order of elements with equal value, it performs well for a small number of elements, its performance improves if the input array is partially sorted\n",
    "## Inefficient for large datasets is the disadvantage of this sorting algorithms"
   ]
  },
  {
   "cell_type": "code",
   "execution_count": null,
   "id": "3d5f0ad9",
   "metadata": {
    "vscode": {
     "languageId": "plaintext"
    }
   },
   "outputs": [],
   "source": [
    "def insertion_sort_by_Name(students):\n",
    "    for i in range(1,len(students)):\n",
    "        key=students[i]\n",
    "        j=i-1\n",
    "        while j>=0 and students[j][\"Name\"]>key[\"Name\"]:\n",
    "            students[j+1]=students[j\n",
    "            j-=1\n",
    "        students[j+1]=key\n",
    "    return students        ]"
   ]
  },
  {
   "cell_type": "code",
   "execution_count": null,
   "id": "1dad7efc",
   "metadata": {
    "vscode": {
     "languageId": "plaintext"
    }
   },
   "outputs": [],
   "source": [
    "print(\"\\nSorted by Name (Insrrtion Sort):\")\n",
    "sorted_by_cgpa=insertion_sort_by_Name(students.copy())\n",
    "for s in sorted_by_Name:\n",
    "    print(s)"
   ]
  },
  {
   "cell_type": "markdown",
   "id": "1df56843",
   "metadata": {
    "vscode": {
     "languageId": "plaintext"
    }
   },
   "source": [
    "## By using Selection sort I'm sorting students by CGPA(Descending)\n",
    "## Selection sort is a simple sort algorithm it works by repeatedly finding the minimum (or maximum, depending on the desired sorting order). relatively simple to implement,performs fewer swaps compared to bubble sort is its advantage. Its disadvantage is inefficient for large datasets and not adaptive."
   ]
  },
  {
   "cell_type": "code",
   "execution_count": null,
   "id": "54e30f09",
   "metadata": {
    "vscode": {
     "languageId": "plaintext"
    }
   },
   "outputs": [],
   "source": [
    "def selection_sort_by_cgpa(students):\n",
    "    n=len(students)\n",
    "    for i in range(n):\n",
    "        max_index=i\n",
    "        for j in range(i+1,n):\n",
    "            if students[j][\"cgpa\"]>students[max_index][\"cgpa\"]:\n",
    "                max_index=j\n",
    "        students[i],students[max_index]=students[max_index],students[i]\n",
    "    return students                "
   ]
  },
  {
   "cell_type": "code",
   "execution_count": null,
   "id": "a6117fe2",
   "metadata": {
    "vscode": {
     "languageId": "plaintext"
    }
   },
   "outputs": [],
   "source": [
    "print(\"\\nSorted by CGPA Descending (Selection Sort):\")\n",
    "sorted_by_cgpa=selection_sort_by_cgpa(students.copy())\n",
    "for s in sorted_by_cgpa:\n",
    "    print(s)"
   ]
  }
 ],
 "metadata": {
  "language_info": {
   "name": "python"
  }
 },
 "nbformat": 4,
 "nbformat_minor": 5
}
