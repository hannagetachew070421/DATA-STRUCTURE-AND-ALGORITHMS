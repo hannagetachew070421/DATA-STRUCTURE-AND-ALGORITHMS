{
 "cells": [
  {
   "cell_type": "markdown",
   "id": "b197aec7",
   "metadata": {},
   "source": [
    "## Name : Hanna Getachew  \n",
    "## ID : DBU1601241\n",
    "## Department : Data science\n",
    "## Github Address: hannagetachew070421 \n",
    "## Data Structure and Algorithms Assignment\n",
    "\n"
   ]
  },
  {
   "cell_type": "markdown",
   "id": "87ff7809",
   "metadata": {},
   "source": [
    "## First we create a student dictionary "
   ]
  },
  {
   "cell_type": "markdown",
   "id": "008f0c39",
   "metadata": {},
   "source": [
    "# Dictionary is a versatile and widely used data structure that stores collections of data in key-valuepairs."
   ]
  },
  {
   "cell_type": "code",
   "execution_count": 126,
   "id": "a9897b58",
   "metadata": {},
   "outputs": [],
   "source": [
    "students= [\n",
    "{\"id\":\"DBU150001\",\"name\":\"Dawit\",\"dept\":\"DS\",\"cgpa\":3.34},\n",
    "{\"id\":\"DBU150012\",\"name\":\"Abebe\",\"dept\":\"IS\",\"cgpa\":3.56},\n",
    "{\"id\":\"DBU150005\",\"name\":\"Meklit\",\"dept\":\"CS\",\"cgpa\":2.78},\n",
    "{\"id\":\"DBU150010\",\"name\":\"Hermela\",\"dept\":\"DS\",\"cgpa\":3.45},\n",
    "{\"id\":\"DBU150015\",\"name\":\"Martha\",\"dept\":\"SE\",\"cgpa\":3.67},\n",
    "{\"id\":\"DBU150002\",\"name\":\"Samuel\",\"dept\":\"IS\",\"cgpa\":3.19},\n",
    "{\"id\":\"DBU150007\",\"name\":\"Eleni\",\"dept\":\"IT\",\"cgpa\":3.25},\n",
    "{\"id\":\"DBU150003\",\"name\":\"Tesfaye\",\"dept\":\"DS\",\"cgpa\":3.07},\n",
    "{\"id\":\"DBU150009\",\"name\":\"Kiros\",\"dept\":\"CS\",\"cgpa\":2.89},\n",
    "{\"id\":\"DBU150008\",\"name\":\"Alazar\",\"dept\":\"IS\",\"cgpa\":3.45},\n",
    "{\"id\":\"DBU150004\",\"name\":\"Zelalem\",\"dept\":\"SE\",\"cgpa\":3.37},\n",
    "{\"id\":\"DBU150012\",\"name\":\"Feruza\",\"dept\":\"DS\",\"cgpa\":2.99},\n",
    "{\"id\":\"DBU150006\",\"name\":\"Hanna\",\"dept\":\"IT\",\"cgpa\":3.65},\n",
    "{\"id\":\"DBU150014\",\"name\":\"Bereket\",\"dept\":\"DS\",\"cgpa\":3.27},\n",
    "{\"id\":\"DBU150011\",\"name\":\"Chalachew\",\"dept\":\"CS\",\"cgpa\":3.79}\n",
    "]"
   ]
  },
  {
   "cell_type": "code",
   "execution_count": 127,
   "id": "7fd9aa95",
   "metadata": {},
   "outputs": [
    {
     "data": {
      "text/plain": [
       "[{'id': 'DBU150001', 'name': 'Dawit', 'dept': 'DS', 'cgpa': 3.34},\n",
       " {'id': 'DBU150012', 'name': 'Abebe', 'dept': 'IS', 'cgpa': 3.56},\n",
       " {'id': 'DBU150005', 'name': 'Meklit', 'dept': 'CS', 'cgpa': 2.78},\n",
       " {'id': 'DBU150010', 'name': 'Hermela', 'dept': 'DS', 'cgpa': 3.45},\n",
       " {'id': 'DBU150015', 'name': 'Martha', 'dept': 'SE', 'cgpa': 3.67},\n",
       " {'id': 'DBU150002', 'name': 'Samuel', 'dept': 'IS', 'cgpa': 3.19},\n",
       " {'id': 'DBU150007', 'name': 'Eleni', 'dept': 'IT', 'cgpa': 3.25},\n",
       " {'id': 'DBU150003', 'name': 'Tesfaye', 'dept': 'DS', 'cgpa': 3.07},\n",
       " {'id': 'DBU150009', 'name': 'Kiros', 'dept': 'CS', 'cgpa': 2.89},\n",
       " {'id': 'DBU150008', 'name': 'Alazar', 'dept': 'IS', 'cgpa': 3.45},\n",
       " {'id': 'DBU150004', 'name': 'Zelalem', 'dept': 'SE', 'cgpa': 3.37},\n",
       " {'id': 'DBU150012', 'name': 'Feruza', 'dept': 'DS', 'cgpa': 2.99},\n",
       " {'id': 'DBU150006', 'name': 'Hanna', 'dept': 'IT', 'cgpa': 3.65},\n",
       " {'id': 'DBU150014', 'name': 'Bereket', 'dept': 'DS', 'cgpa': 3.27},\n",
       " {'id': 'DBU150011', 'name': 'Chalachew', 'dept': 'CS', 'cgpa': 3.79}]"
      ]
     },
     "execution_count": 127,
     "metadata": {},
     "output_type": "execute_result"
    }
   ],
   "source": [
    "students"
   ]
  },
  {
   "cell_type": "markdown",
   "id": "83ef2ee4",
   "metadata": {
    "vscode": {
     "languageId": "plaintext"
    }
   },
   "source": [
    "## By using Bubble sort I'm sorting student ID in ordering. \n",
    "Bubble sort is a straightforward sorting algorithm primarily used for educational purposes and for sorting small datasets. it's advantage is simple to understand and implement.it's inefficient for large datasets is it's disadvantage.\n"
   ]
  },
  {
   "cell_type": "code",
   "execution_count": 128,
   "id": "fe9af46e",
   "metadata": {},
   "outputs": [],
   "source": [
    "def bubble_sort_by_ID(students):\n",
    "    n=len(students)\n",
    "    for i in range(n):\n",
    "        for j in range(0,n-i-1):\n",
    "            if students[j][\"id\"]> students[j+1][\"id\"]:\n",
    "                 students[j],students[j+1]=students[j+1],students[j]\n",
    "    return students             "
   ]
  },
  {
   "cell_type": "code",
   "execution_count": 129,
   "id": "3559ad76",
   "metadata": {},
   "outputs": [
    {
     "name": "stdout",
     "output_type": "stream",
     "text": [
      "\n",
      "Sorted by id (bubble Sort):\n",
      "{'id': 'DBU150001', 'name': 'Dawit', 'dept': 'DS', 'cgpa': 3.34}\n",
      "{'id': 'DBU150002', 'name': 'Samuel', 'dept': 'IS', 'cgpa': 3.19}\n",
      "{'id': 'DBU150003', 'name': 'Tesfaye', 'dept': 'DS', 'cgpa': 3.07}\n",
      "{'id': 'DBU150004', 'name': 'Zelalem', 'dept': 'SE', 'cgpa': 3.37}\n",
      "{'id': 'DBU150005', 'name': 'Meklit', 'dept': 'CS', 'cgpa': 2.78}\n",
      "{'id': 'DBU150006', 'name': 'Hanna', 'dept': 'IT', 'cgpa': 3.65}\n",
      "{'id': 'DBU150007', 'name': 'Eleni', 'dept': 'IT', 'cgpa': 3.25}\n",
      "{'id': 'DBU150008', 'name': 'Alazar', 'dept': 'IS', 'cgpa': 3.45}\n",
      "{'id': 'DBU150009', 'name': 'Kiros', 'dept': 'CS', 'cgpa': 2.89}\n",
      "{'id': 'DBU150010', 'name': 'Hermela', 'dept': 'DS', 'cgpa': 3.45}\n",
      "{'id': 'DBU150011', 'name': 'Chalachew', 'dept': 'CS', 'cgpa': 3.79}\n",
      "{'id': 'DBU150012', 'name': 'Abebe', 'dept': 'IS', 'cgpa': 3.56}\n",
      "{'id': 'DBU150012', 'name': 'Feruza', 'dept': 'DS', 'cgpa': 2.99}\n",
      "{'id': 'DBU150014', 'name': 'Bereket', 'dept': 'DS', 'cgpa': 3.27}\n",
      "{'id': 'DBU150015', 'name': 'Martha', 'dept': 'SE', 'cgpa': 3.67}\n"
     ]
    }
   ],
   "source": [
    "print(\"\\nSorted by id (bubble Sort):\")\n",
    "sorted_by_id=bubble_sort_by_ID(students.copy())\n",
    "for s in sorted_by_id:\n",
    "    print(s)"
   ]
  },
  {
   "cell_type": "markdown",
   "id": "197c863f",
   "metadata": {
    "vscode": {
     "languageId": "plaintext"
    }
   },
   "source": [
    "# By using Insertion sort I'm sorting student by Name"
   ]
  },
  {
   "cell_type": "markdown",
   "id": "8a74bd3e",
   "metadata": {
    "vscode": {
     "languageId": "plaintext"
    }
   },
   "source": [
    "## Insertion sort is a simple sorting algorithm it's advantage is simple to implement, it preserves the relative order of elements with equal value, it performs well for a small number of elements, its performance improves if the input array is partially sorted\n",
    "## Inefficient for large datasets is the disadvantage of this sorting algorithms"
   ]
  },
  {
   "cell_type": "code",
   "execution_count": 130,
   "id": "3d5f0ad9",
   "metadata": {},
   "outputs": [],
   "source": [
    "def insertion_sort_by_Name(students):\n",
    "    for i in range(1,len(students)):\n",
    "        key=students[i]\n",
    "        j=i-1\n",
    "        while j>=0 and students[j][\"name\"]>key[\"name\"]:\n",
    "            students[j+1]=students[j]\n",
    "            j-=1\n",
    "        students[j+1]=key\n",
    "    return students        "
   ]
  },
  {
   "cell_type": "code",
   "execution_count": 131,
   "id": "1dad7efc",
   "metadata": {},
   "outputs": [
    {
     "name": "stdout",
     "output_type": "stream",
     "text": [
      "\n",
      "Sorted by name (insertion Sort):\n",
      "{'id': 'DBU150012', 'name': 'Abebe', 'dept': 'IS', 'cgpa': 3.56}\n",
      "{'id': 'DBU150008', 'name': 'Alazar', 'dept': 'IS', 'cgpa': 3.45}\n",
      "{'id': 'DBU150014', 'name': 'Bereket', 'dept': 'DS', 'cgpa': 3.27}\n",
      "{'id': 'DBU150011', 'name': 'Chalachew', 'dept': 'CS', 'cgpa': 3.79}\n",
      "{'id': 'DBU150001', 'name': 'Dawit', 'dept': 'DS', 'cgpa': 3.34}\n",
      "{'id': 'DBU150007', 'name': 'Eleni', 'dept': 'IT', 'cgpa': 3.25}\n",
      "{'id': 'DBU150012', 'name': 'Feruza', 'dept': 'DS', 'cgpa': 2.99}\n",
      "{'id': 'DBU150006', 'name': 'Hanna', 'dept': 'IT', 'cgpa': 3.65}\n",
      "{'id': 'DBU150010', 'name': 'Hermela', 'dept': 'DS', 'cgpa': 3.45}\n",
      "{'id': 'DBU150009', 'name': 'Kiros', 'dept': 'CS', 'cgpa': 2.89}\n",
      "{'id': 'DBU150015', 'name': 'Martha', 'dept': 'SE', 'cgpa': 3.67}\n",
      "{'id': 'DBU150005', 'name': 'Meklit', 'dept': 'CS', 'cgpa': 2.78}\n",
      "{'id': 'DBU150002', 'name': 'Samuel', 'dept': 'IS', 'cgpa': 3.19}\n",
      "{'id': 'DBU150003', 'name': 'Tesfaye', 'dept': 'DS', 'cgpa': 3.07}\n",
      "{'id': 'DBU150004', 'name': 'Zelalem', 'dept': 'SE', 'cgpa': 3.37}\n"
     ]
    }
   ],
   "source": [
    "print(\"\\nSorted by name (insertion Sort):\")\n",
    "sorted_by_name=insertion_sort_by_Name(students.copy())\n",
    "for s in sorted_by_name:\n",
    "    print(s)"
   ]
  },
  {
   "cell_type": "markdown",
   "id": "1df56843",
   "metadata": {
    "vscode": {
     "languageId": "plaintext"
    }
   },
   "source": [
    "## By using Selection sort I'm sorting students by CGPA(Descending)\n",
    "## Selection sort is a simple sort algorithm it works by repeatedly finding the minimum (or maximum, depending on the desired sorting order). relatively simple to implement,performs fewer swaps compared to bubble sort is its advantage. Its disadvantage is inefficient for large datasets and not adaptive."
   ]
  },
  {
   "cell_type": "code",
   "execution_count": 132,
   "id": "54e30f09",
   "metadata": {},
   "outputs": [],
   "source": [
    "def selection_sort_by_cgpa(students):\n",
    "    n=len(students)\n",
    "    for i in range(n):\n",
    "        max_index=i\n",
    "        for j in range(i+1,n):\n",
    "            if students[j][\"cgpa\"]>students[max_index][\"cgpa\"]:\n",
    "                max_index=j\n",
    "        students[i],students[max_index]=students[max_index],students[i]\n",
    "    return students                "
   ]
  },
  {
   "cell_type": "code",
   "execution_count": 133,
   "id": "a6117fe2",
   "metadata": {},
   "outputs": [
    {
     "name": "stdout",
     "output_type": "stream",
     "text": [
      "\n",
      "Sorted by CGPA Descending (Selection Sort):\n",
      "{'id': 'DBU150011', 'name': 'Chalachew', 'dept': 'CS', 'cgpa': 3.79}\n",
      "{'id': 'DBU150015', 'name': 'Martha', 'dept': 'SE', 'cgpa': 3.67}\n",
      "{'id': 'DBU150006', 'name': 'Hanna', 'dept': 'IT', 'cgpa': 3.65}\n",
      "{'id': 'DBU150012', 'name': 'Abebe', 'dept': 'IS', 'cgpa': 3.56}\n",
      "{'id': 'DBU150010', 'name': 'Hermela', 'dept': 'DS', 'cgpa': 3.45}\n",
      "{'id': 'DBU150008', 'name': 'Alazar', 'dept': 'IS', 'cgpa': 3.45}\n",
      "{'id': 'DBU150004', 'name': 'Zelalem', 'dept': 'SE', 'cgpa': 3.37}\n",
      "{'id': 'DBU150001', 'name': 'Dawit', 'dept': 'DS', 'cgpa': 3.34}\n",
      "{'id': 'DBU150014', 'name': 'Bereket', 'dept': 'DS', 'cgpa': 3.27}\n",
      "{'id': 'DBU150007', 'name': 'Eleni', 'dept': 'IT', 'cgpa': 3.25}\n",
      "{'id': 'DBU150002', 'name': 'Samuel', 'dept': 'IS', 'cgpa': 3.19}\n",
      "{'id': 'DBU150003', 'name': 'Tesfaye', 'dept': 'DS', 'cgpa': 3.07}\n",
      "{'id': 'DBU150012', 'name': 'Feruza', 'dept': 'DS', 'cgpa': 2.99}\n",
      "{'id': 'DBU150009', 'name': 'Kiros', 'dept': 'CS', 'cgpa': 2.89}\n",
      "{'id': 'DBU150005', 'name': 'Meklit', 'dept': 'CS', 'cgpa': 2.78}\n"
     ]
    }
   ],
   "source": [
    "print(\"\\nSorted by CGPA Descending (Selection Sort):\")\n",
    "sorted_by_cgpa=selection_sort_by_cgpa(students.copy())\n",
    "for s in sorted_by_cgpa:\n",
    "    print(s)"
   ]
  }
 ],
 "metadata": {
  "kernelspec": {
   "display_name": "Python 3",
   "language": "python",
   "name": "python3"
  },
  "language_info": {
   "codemirror_mode": {
    "name": "ipython",
    "version": 3
   },
   "file_extension": ".py",
   "mimetype": "text/x-python",
   "name": "python",
   "nbconvert_exporter": "python",
   "pygments_lexer": "ipython3",
   "version": "3.13.1"
  }
 },
 "nbformat": 4,
 "nbformat_minor": 5
}
